{
 "cells": [
  {
   "cell_type": "code",
   "execution_count": 10,
   "metadata": {},
   "outputs": [],
   "source": [
    "import numpy\n",
    "import pandas\n",
    "import tensorflow as tf\n",
    "from tensorflow.keras.preprocessing.image import ImageDataGenerator\n",
    "from tensorflow.keras.models import Sequential\n",
    "from tensorflow.keras.layers import Conv2D, MaxPooling2D\n",
    "from tensorflow.keras.layers import Activation, Dropout, Flatten, Dense\n",
    "from tensorflow.keras.regularizers import l2\n"
   ]
  },
  {
   "cell_type": "code",
   "execution_count": 11,
   "metadata": {},
   "outputs": [],
   "source": [
    "train_data_dir = 'D:/My Documents/GIT Projects/IEEE-Hack-the-meta/ASL_F/asl_alphabet_train'\n",
    "test_data_dir = 'D:/My Documents/GIT Projects/IEEE-Hack-the-meta/ASL_F/asl_alphabet_test'"
   ]
  },
  {
   "cell_type": "code",
   "execution_count": 12,
   "metadata": {},
   "outputs": [],
   "source": [
    "train_datagen = ImageDataGenerator(\n",
    "    rescale=1./255, \n",
    "    width_shift_range=0.2, \n",
    "    height_shift_range=0.2, \n",
    "    zoom_range=0.2, \n",
    "    horizontal_flip=True\n",
    ")\n",
    "test_datagen = ImageDataGenerator(rescale=1./255)"
   ]
  },
  {
   "cell_type": "code",
   "execution_count": 4,
   "metadata": {},
   "outputs": [
    {
     "name": "stdout",
     "output_type": "stream",
     "text": [
      "Found 82650 images belonging to 29 classes.\n",
      "Found 4411 images belonging to 29 classes.\n"
     ]
    }
   ],
   "source": [
    "train_generator = train_datagen.flow_from_directory(\n",
    "    train_data_dir,\n",
    "    target_size=(150, 150),\n",
    "    batch_size=64, \n",
    "    class_mode='categorical'\n",
    ")\n",
    "\n",
    "test_generator = test_datagen.flow_from_directory(\n",
    "    test_data_dir,\n",
    "    target_size=(150, 150),\n",
    "    batch_size=64,\n",
    "    class_mode='categorical'\n",
    ")"
   ]
  },
  {
   "cell_type": "code",
   "execution_count": 5,
   "metadata": {},
   "outputs": [],
   "source": [
    "model = Sequential()\n",
    "model.add(Conv2D(32, (3, 3), input_shape=(150, 150, 3)))\n",
    "model.add(Activation('relu'))\n",
    "model.add(MaxPooling2D(pool_size=(2, 2)))\n",
    "\n",
    "model.add(Conv2D(64, (3, 3)))\n",
    "model.add(Activation('relu'))\n",
    "model.add(MaxPooling2D(pool_size=(2, 2)))\n",
    "\n",
    "model.add(Conv2D(128, (3, 3)))\n",
    "model.add(Activation('relu'))\n",
    "model.add(MaxPooling2D(pool_size=(2, 2)))\n",
    "\n",
    "model.add(Flatten())\n",
    "model.add(Dense(64))\n",
    "model.add(Activation('relu'))\n",
    "model.add(Dropout(0.5))\n",
    "model.add(Dense(29))\n",
    "model.add(Activation('softmax'))"
   ]
  },
  {
   "cell_type": "code",
   "execution_count": 6,
   "metadata": {},
   "outputs": [],
   "source": [
    "optimizer = tf.keras.optimizers.Adam(learning_rate=0.001)\n",
    "model.compile(loss='categorical_crossentropy',optimizer=optimizer, metrics=['accuracy'])"
   ]
  },
  {
   "cell_type": "code",
   "execution_count": 7,
   "metadata": {},
   "outputs": [
    {
     "name": "stdout",
     "output_type": "stream",
     "text": [
      "Epoch 1/20\n",
      "1292/1292 [==============================] - 846s 651ms/step - loss: 3.1096 - accuracy: 0.1011 - val_loss: 2.1996 - val_accuracy: 0.3555\n",
      "Epoch 2/20\n",
      "1292/1292 [==============================] - 685s 530ms/step - loss: 2.3396 - accuracy: 0.2682 - val_loss: 1.4736 - val_accuracy: 0.5493\n",
      "Epoch 3/20\n",
      "1292/1292 [==============================] - 473s 366ms/step - loss: 1.9543 - accuracy: 0.3610 - val_loss: 1.1740 - val_accuracy: 0.6416\n",
      "Epoch 4/20\n",
      "1292/1292 [==============================] - 458s 355ms/step - loss: 1.7212 - accuracy: 0.4266 - val_loss: 0.9676 - val_accuracy: 0.6905\n",
      "Epoch 5/20\n",
      "1292/1292 [==============================] - 392s 303ms/step - loss: 1.5451 - accuracy: 0.4742 - val_loss: 0.8511 - val_accuracy: 0.7096\n",
      "Epoch 6/20\n",
      "1292/1292 [==============================] - 388s 300ms/step - loss: 1.4098 - accuracy: 0.5120 - val_loss: 0.7060 - val_accuracy: 0.7611\n",
      "Epoch 7/20\n",
      "1292/1292 [==============================] - 385s 298ms/step - loss: 1.3140 - accuracy: 0.5454 - val_loss: 0.6512 - val_accuracy: 0.7801\n",
      "Epoch 8/20\n",
      "1292/1292 [==============================] - 385s 298ms/step - loss: 1.2276 - accuracy: 0.5719 - val_loss: 0.5184 - val_accuracy: 0.8320\n",
      "Epoch 9/20\n",
      "1292/1292 [==============================] - 392s 303ms/step - loss: 1.1537 - accuracy: 0.5924 - val_loss: 0.5029 - val_accuracy: 0.8368\n",
      "Epoch 10/20\n",
      "1292/1292 [==============================] - 393s 304ms/step - loss: 1.0989 - accuracy: 0.6143 - val_loss: 0.4742 - val_accuracy: 0.8547\n",
      "Epoch 11/20\n",
      "1292/1292 [==============================] - 378s 293ms/step - loss: 1.0473 - accuracy: 0.6289 - val_loss: 0.4305 - val_accuracy: 0.8660\n",
      "Epoch 12/20\n",
      "1292/1292 [==============================] - 385s 298ms/step - loss: 1.0093 - accuracy: 0.6427 - val_loss: 0.4023 - val_accuracy: 0.8696\n",
      "Epoch 13/20\n",
      "1292/1292 [==============================] - 375s 291ms/step - loss: 0.9763 - accuracy: 0.6556 - val_loss: 0.3818 - val_accuracy: 0.8733\n",
      "Epoch 14/20\n",
      "1292/1292 [==============================] - 387s 299ms/step - loss: 0.9458 - accuracy: 0.6633 - val_loss: 0.4124 - val_accuracy: 0.8440\n",
      "Epoch 15/20\n",
      "1292/1292 [==============================] - 388s 300ms/step - loss: 0.9096 - accuracy: 0.6769 - val_loss: 0.3203 - val_accuracy: 0.8873\n",
      "Epoch 16/20\n",
      "1292/1292 [==============================] - 392s 303ms/step - loss: 0.8867 - accuracy: 0.6865 - val_loss: 0.3657 - val_accuracy: 0.8776\n",
      "Epoch 17/20\n",
      "1292/1292 [==============================] - 401s 311ms/step - loss: 0.8607 - accuracy: 0.6949 - val_loss: 0.3390 - val_accuracy: 0.8735\n"
     ]
    }
   ],
   "source": [
    "steps_per_epoch = len(train_generator)\n",
    "validation_steps = len(test_generator)\n",
    "early_stopping = tf.keras.callbacks.EarlyStopping(monitor='val_loss', patience=2)\n",
    "\n",
    "history = model.fit(\n",
    "    train_generator,\n",
    "    steps_per_epoch=steps_per_epoch,\n",
    "    epochs=20,\n",
    "    validation_data=test_generator,\n",
    "    validation_steps=validation_steps,\n",
    "    callbacks=[early_stopping],\n",
    ")"
   ]
  },
  {
   "cell_type": "code",
   "execution_count": 8,
   "metadata": {},
   "outputs": [
    {
     "name": "stdout",
     "output_type": "stream",
     "text": [
      "Test loss: 0.33901938796043396\n",
      "Test accuracy: 0.8734980821609497\n"
     ]
    }
   ],
   "source": [
    "score = model.evaluate(test_generator, verbose=0)\n",
    "print('Test loss:', score[0])\n",
    "print('Test accuracy:', score[1])"
   ]
  },
  {
   "cell_type": "code",
   "execution_count": 9,
   "metadata": {},
   "outputs": [],
   "source": [
    "model.save('asl_model.h5')"
   ]
  },
  {
   "cell_type": "code",
   "execution_count": null,
   "metadata": {},
   "outputs": [],
   "source": []
  }
 ],
 "metadata": {
  "kernelspec": {
   "display_name": "tf",
   "language": "python",
   "name": "python3"
  },
  "language_info": {
   "codemirror_mode": {
    "name": "ipython",
    "version": 3
   },
   "file_extension": ".py",
   "mimetype": "text/x-python",
   "name": "python",
   "nbconvert_exporter": "python",
   "pygments_lexer": "ipython3",
   "version": "3.9.16"
  },
  "orig_nbformat": 4
 },
 "nbformat": 4,
 "nbformat_minor": 2
}
