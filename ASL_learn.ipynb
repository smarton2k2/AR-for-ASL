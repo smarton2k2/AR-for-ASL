{
 "cells": [
  {
   "cell_type": "code",
   "execution_count": 13,
   "metadata": {},
   "outputs": [],
   "source": [
    "import numpy\n",
    "import pandas\n",
    "import tensorflow as tf\n",
    "from tensorflow.keras.preprocessing.image import ImageDataGenerator\n",
    "from tensorflow.keras.models import Sequential\n",
    "from tensorflow.keras.layers import Conv2D, MaxPooling2D\n",
    "from tensorflow.keras.layers import Activation, Dropout, Flatten, Dense\n",
    "from tensorflow.keras.regularizers import l2\n"
   ]
  },
  {
   "cell_type": "code",
   "execution_count": 14,
   "metadata": {},
   "outputs": [],
   "source": [
    "train_data_dir = 'D:/My Documents/GIT Projects/IEEE-Hack-the-meta/ASL_F/asl_alphabet_train'\n",
    "test_data_dir = 'D:/My Documents/GIT Projects/IEEE-Hack-the-meta/ASL_F/asl_alphabet_test'"
   ]
  },
  {
   "cell_type": "code",
   "execution_count": 15,
   "metadata": {},
   "outputs": [],
   "source": [
    "train_datagen = ImageDataGenerator(\n",
    "    rescale=1./255, \n",
    "    width_shift_range=0.3,\n",
    "    height_shift_range=0.3,\n",
    "    zoom_range=0.3,\n",
    "    horizontal_flip=True\n",
    ")\n",
    "test_datagen = ImageDataGenerator(rescale=1./255)"
   ]
  },
  {
   "cell_type": "code",
   "execution_count": 16,
   "metadata": {},
   "outputs": [
    {
     "name": "stdout",
     "output_type": "stream",
     "text": [
      "Found 82650 images belonging to 29 classes.\n",
      "Found 4411 images belonging to 29 classes.\n"
     ]
    }
   ],
   "source": [
    "train_generator = train_datagen.flow_from_directory(\n",
    "    train_data_dir,\n",
    "    target_size=(150, 150),\n",
    "    batch_size=64, \n",
    "    class_mode='categorical'\n",
    ")\n",
    "\n",
    "test_generator = test_datagen.flow_from_directory(\n",
    "    test_data_dir,\n",
    "    target_size=(150, 150),\n",
    "    batch_size=64,\n",
    "    class_mode='categorical'\n",
    ")"
   ]
  },
  {
   "cell_type": "code",
   "execution_count": 17,
   "metadata": {},
   "outputs": [],
   "source": [
    "model = Sequential()\n",
    "model.add(Conv2D(32, (3, 3), input_shape=(150, 150, 3)))\n",
    "model.add(Activation('relu'))\n",
    "model.add(MaxPooling2D(pool_size=(2, 2)))\n",
    "\n",
    "model.add(Conv2D(64, (3, 3)))\n",
    "model.add(Activation('relu'))\n",
    "model.add(MaxPooling2D(pool_size=(2, 2)))\n",
    "\n",
    "model.add(Conv2D(128, (3, 3)))\n",
    "model.add(Activation('relu'))\n",
    "model.add(MaxPooling2D(pool_size=(2, 2)))\n",
    "\n",
    "model.add(Flatten())\n",
    "model.add(Dense(64))\n",
    "model.add(Activation('relu'))\n",
    "model.add(Dropout(0.5))\n",
    "model.add(Dense(29))\n",
    "model.add(Activation('softmax'))"
   ]
  },
  {
   "cell_type": "code",
   "execution_count": 18,
   "metadata": {},
   "outputs": [],
   "source": [
    "optimizer = tf.keras.optimizers.Adam(learning_rate=0.001)\n",
    "model.compile(loss='categorical_crossentropy',optimizer=optimizer, metrics=['accuracy'])"
   ]
  },
  {
   "cell_type": "code",
   "execution_count": 19,
   "metadata": {},
   "outputs": [
    {
     "name": "stdout",
     "output_type": "stream",
     "text": [
      "Epoch 1/20\n",
      "1292/1292 [==============================] - 393s 303ms/step - loss: 3.1456 - accuracy: 0.0904 - val_loss: 2.4478 - val_accuracy: 0.2847\n",
      "Epoch 2/20\n",
      "1292/1292 [==============================] - 390s 302ms/step - loss: 2.5859 - accuracy: 0.2145 - val_loss: 1.6793 - val_accuracy: 0.5065\n",
      "Epoch 3/20\n",
      "1292/1292 [==============================] - 463s 358ms/step - loss: 2.2041 - accuracy: 0.3009 - val_loss: 1.3858 - val_accuracy: 0.5568\n",
      "Epoch 4/20\n",
      "1292/1292 [==============================] - 488s 377ms/step - loss: 1.9447 - accuracy: 0.3666 - val_loss: 1.0890 - val_accuracy: 0.6522\n",
      "Epoch 5/20\n",
      "1292/1292 [==============================] - 469s 363ms/step - loss: 1.7568 - accuracy: 0.4202 - val_loss: 0.9907 - val_accuracy: 0.6686\n",
      "Epoch 6/20\n",
      "1292/1292 [==============================] - 467s 361ms/step - loss: 1.6170 - accuracy: 0.4577 - val_loss: 0.8151 - val_accuracy: 0.7200\n",
      "Epoch 7/20\n",
      "1292/1292 [==============================] - 675s 523ms/step - loss: 1.5106 - accuracy: 0.4887 - val_loss: 0.7135 - val_accuracy: 0.7524\n",
      "Epoch 8/20\n",
      "1292/1292 [==============================] - 724s 560ms/step - loss: 1.4112 - accuracy: 0.5163 - val_loss: 0.6251 - val_accuracy: 0.7665\n",
      "Epoch 9/20\n",
      "1292/1292 [==============================] - 399s 309ms/step - loss: 1.3387 - accuracy: 0.5406 - val_loss: 0.5606 - val_accuracy: 0.8057\n",
      "Epoch 10/20\n",
      "1292/1292 [==============================] - 385s 298ms/step - loss: 1.2649 - accuracy: 0.5659 - val_loss: 0.5443 - val_accuracy: 0.8132\n",
      "Epoch 11/20\n",
      "1292/1292 [==============================] - 384s 297ms/step - loss: 1.2104 - accuracy: 0.5829 - val_loss: 0.5132 - val_accuracy: 0.8322\n",
      "Epoch 12/20\n",
      "1292/1292 [==============================] - 389s 301ms/step - loss: 1.1554 - accuracy: 0.6035 - val_loss: 0.4506 - val_accuracy: 0.8576\n",
      "Epoch 13/20\n",
      "1292/1292 [==============================] - 384s 297ms/step - loss: 1.1025 - accuracy: 0.6203 - val_loss: 0.4169 - val_accuracy: 0.8522\n",
      "Epoch 14/20\n",
      "1292/1292 [==============================] - 386s 298ms/step - loss: 1.0625 - accuracy: 0.6347 - val_loss: 0.3790 - val_accuracy: 0.8706\n",
      "Epoch 15/20\n",
      "1292/1292 [==============================] - 384s 297ms/step - loss: 1.0226 - accuracy: 0.6453 - val_loss: 0.3544 - val_accuracy: 0.8719\n",
      "Epoch 16/20\n",
      "1292/1292 [==============================] - 390s 302ms/step - loss: 0.9935 - accuracy: 0.6595 - val_loss: 0.3647 - val_accuracy: 0.8769\n",
      "Epoch 17/20\n",
      "1292/1292 [==============================] - 382s 296ms/step - loss: 0.9699 - accuracy: 0.6682 - val_loss: 0.3245 - val_accuracy: 0.8880\n",
      "Epoch 18/20\n",
      "1292/1292 [==============================] - 380s 294ms/step - loss: 0.9420 - accuracy: 0.6750 - val_loss: 0.3436 - val_accuracy: 0.8778\n",
      "Epoch 19/20\n",
      "1292/1292 [==============================] - 371s 287ms/step - loss: 0.9200 - accuracy: 0.6836 - val_loss: 0.3055 - val_accuracy: 0.8932\n",
      "Epoch 20/20\n",
      "1292/1292 [==============================] - 361s 279ms/step - loss: 0.8938 - accuracy: 0.6941 - val_loss: 0.2715 - val_accuracy: 0.9152\n"
     ]
    }
   ],
   "source": [
    "steps_per_epoch = len(train_generator)\n",
    "validation_steps = len(test_generator)\n",
    "early_stopping = tf.keras.callbacks.EarlyStopping(monitor='val_loss', patience=2)\n",
    "\n",
    "history = model.fit(\n",
    "    train_generator,\n",
    "    steps_per_epoch=steps_per_epoch,\n",
    "    epochs=20,\n",
    "    validation_data=test_generator,\n",
    "    validation_steps=validation_steps,\n",
    "    callbacks=[early_stopping],\n",
    ")"
   ]
  },
  {
   "cell_type": "code",
   "execution_count": 20,
   "metadata": {},
   "outputs": [
    {
     "name": "stdout",
     "output_type": "stream",
     "text": [
      "Test loss: 0.27153244614601135\n",
      "Test accuracy: 0.9152119755744934\n"
     ]
    }
   ],
   "source": [
    "score = model.evaluate(test_generator, verbose=0)\n",
    "print('Test loss:', score[0])\n",
    "print('Test accuracy:', score[1])"
   ]
  },
  {
   "cell_type": "code",
   "execution_count": 9,
   "metadata": {},
   "outputs": [],
   "source": [
    "model.save('asl_model.h5')"
   ]
  },
  {
   "cell_type": "code",
   "execution_count": null,
   "metadata": {},
   "outputs": [],
   "source": []
  }
 ],
 "metadata": {
  "kernelspec": {
   "display_name": "tf",
   "language": "python",
   "name": "python3"
  },
  "language_info": {
   "codemirror_mode": {
    "name": "ipython",
    "version": 3
   },
   "file_extension": ".py",
   "mimetype": "text/x-python",
   "name": "python",
   "nbconvert_exporter": "python",
   "pygments_lexer": "ipython3",
   "version": "3.9.16"
  },
  "orig_nbformat": 4
 },
 "nbformat": 4,
 "nbformat_minor": 2
}
