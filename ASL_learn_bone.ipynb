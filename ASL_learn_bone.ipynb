{
 "cells": [
  {
   "cell_type": "code",
   "execution_count": null,
   "metadata": {},
   "outputs": [],
   "source": [
    "import numpy as np\n",
    "import cv2\n",
    "import tensorflow as tf\n",
    "from tensorflow.keras.preprocessing.image import ImageDataGenerator\n",
    "from tensorflow.keras.layers import Input, Conv2D, MaxPooling2D, Flatten, concatenate, Dense, BatchNormalization\n",
    "from tensorflow.keras.models import Model\n",
    "import mediapipe as mp"
   ]
  },
  {
   "cell_type": "code",
   "execution_count": null,
   "metadata": {},
   "outputs": [],
   "source": [
    "mp_hands = mp.solutions.hands\n",
    "hands = mp_hands.Hands(static_image_mode=True, max_num_hands=1, min_detection_confidence=0.2)"
   ]
  },
  {
   "cell_type": "code",
   "execution_count": null,
   "metadata": {},
   "outputs": [],
   "source": [
    "def random_augmentation(img):\n",
    "    rows, cols, _ = img.shape\n",
    "    tx, ty = np.random.uniform(-20, 20, size=2)\n",
    "    M_trans = np.float32([[1, 0, tx], [0, 1, ty]])\n",
    "    img = cv2.warpAffine(img, M_trans, (cols, rows))\n",
    "    return img\n",
    "\n",
    "def mediapipe_preprocessing(img):\n",
    "    img_uint8 = (img * 255).astype('uint8')\n",
    "    img_augmented = random_augmentation(img_uint8)\n",
    "\n",
    "    noise_factor = 0.5\n",
    "    noise = np.random.randn(*img_augmented.shape) * noise_factor\n",
    "    img_noisy = img_augmented + noise\n",
    "    img_noisy = np.clip(img_noisy, 0, 255)\n",
    "\n",
    "    img_rgb = cv2.cvtColor(img_noisy.astype('uint8'), cv2.COLOR_BGR2RGB)\n",
    "    \n",
    "    results = hands.process(img_rgb)\n",
    "    landmarks_array = None\n",
    "    \n",
    "    if results.multi_hand_landmarks:\n",
    "        for hand_landmarks in results.multi_hand_landmarks:\n",
    "            landmarks = hand_landmarks.landmark\n",
    "            landmarks_array = np.array([[landmark.x, landmark.y, landmark.z] for landmark in landmarks]).flatten()\n",
    "            break\n",
    "    else:\n",
    "        landmarks_array = np.zeros((21, 3)).flatten()\n",
    "\n",
    "    img_rescaled = img_noisy / 255.0\n",
    "    return (img_rescaled, landmarks_array)\n",
    "\n"
   ]
  },
  {
   "cell_type": "code",
   "execution_count": null,
   "metadata": {},
   "outputs": [],
   "source": [
    "class CustomDataGenerator(tf.keras.utils.Sequence):\n",
    "    def __init__(self, directory, batch_size, target_size, class_mode='categorical', preprocessing_function=None):\n",
    "        self.batch_size = batch_size\n",
    "        self.target_size = target_size\n",
    "        self.class_mode = class_mode\n",
    "        self.preprocessing_function = preprocessing_function\n",
    "\n",
    "        self.datagen = ImageDataGenerator(rescale=1./255)\n",
    "        self.generator = self.datagen.flow_from_directory(directory, \n",
    "                                                          batch_size=batch_size, \n",
    "                                                          target_size=target_size, \n",
    "                                                          class_mode=class_mode)\n",
    "\n",
    "    def __len__(self):\n",
    "        return len(self.generator)\n",
    "\n",
    "    def __getitem__(self, idx):\n",
    "        batch_x, batch_y = self.generator[idx]\n",
    "        batch_x_processed = []\n",
    "        batch_landmarks = []\n",
    "\n",
    "        for img in batch_x:\n",
    "            img_processed, landmarks = self.preprocessing_function(img)\n",
    "            batch_x_processed.append(img_processed)\n",
    "            batch_landmarks.append(landmarks)\n",
    "\n",
    "        batch_x_processed = np.array(batch_x_processed)\n",
    "        batch_landmarks = np.array(batch_landmarks)\n",
    "\n",
    "        return [batch_x_processed, batch_landmarks], batch_y"
   ]
  },
  {
   "cell_type": "code",
   "execution_count": null,
   "metadata": {},
   "outputs": [],
   "source": [
    "train_data_dir = 'D:/My Documents/GIT Projects/IEEE-Hack-the-meta/ASL/asl_alphabet_train'\n",
    "test_data_dir = 'D:/My Documents/GIT Projects/IEEE-Hack-the-meta/ASL/asl_alphabet_test'"
   ]
  },
  {
   "cell_type": "code",
   "execution_count": null,
   "metadata": {},
   "outputs": [],
   "source": [
    "input_img = Input(shape=(200, 200, 3))\n",
    "x = Conv2D(32, (3, 3), activation='relu')(input_img)\n",
    "x = BatchNormalization()(x)\n",
    "x = MaxPooling2D((2, 2))(x)\n",
    "x = Flatten()(x)\n",
    "\n",
    "input_landmarks = Input(shape=(63,))\n",
    "y = Dense(32, activation='relu')(input_landmarks)\n",
    "\n",
    "combined = concatenate([x, y])\n",
    "\n",
    "z = Dense(64, activation='relu')(combined)\n",
    "output = Dense(29, activation='softmax')(z)\n",
    "\n",
    "model = Model(inputs=[input_img, input_landmarks], outputs=output)\n",
    "\n",
    "optimizer = tf.keras.optimizers.Adam(learning_rate=0.001)\n",
    "model.compile(loss='categorical_crossentropy',optimizer=optimizer, metrics=['accuracy'])"
   ]
  },
  {
   "cell_type": "code",
   "execution_count": null,
   "metadata": {},
   "outputs": [],
   "source": [
    "train_generator = CustomDataGenerator(train_data_dir, batch_size=32, target_size=(200, 200), preprocessing_function=mediapipe_preprocessing)\n",
    "test_generator = CustomDataGenerator(test_data_dir, batch_size=32, target_size=(200, 200), preprocessing_function=mediapipe_preprocessing)"
   ]
  },
  {
   "cell_type": "code",
   "execution_count": null,
   "metadata": {},
   "outputs": [],
   "source": [
    "model.fit(train_generator, epochs=10, validation_data=test_generator)"
   ]
  },
  {
   "cell_type": "code",
   "execution_count": null,
   "metadata": {},
   "outputs": [],
   "source": [
    "score = model.evaluate(test_generator, verbose=0)\n",
    "print('Test loss:', score[0])\n",
    "print('Test accuracy:', score[1])"
   ]
  },
  {
   "cell_type": "code",
   "execution_count": null,
   "metadata": {},
   "outputs": [],
   "source": [
    "model.save('asl_model_bone.h5')"
   ]
  },
  {
   "cell_type": "code",
   "execution_count": null,
   "metadata": {},
   "outputs": [],
   "source": []
  }
 ],
 "metadata": {
  "kernelspec": {
   "display_name": "tf",
   "language": "python",
   "name": "python3"
  },
  "language_info": {
   "codemirror_mode": {
    "name": "ipython",
    "version": 3
   },
   "file_extension": ".py",
   "mimetype": "text/x-python",
   "name": "python",
   "nbconvert_exporter": "python",
   "pygments_lexer": "ipython3",
   "version": "3.9.16"
  },
  "orig_nbformat": 4
 },
 "nbformat": 4,
 "nbformat_minor": 2
}
